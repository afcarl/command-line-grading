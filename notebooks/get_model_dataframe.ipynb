{
 "cells": [
  {
   "cell_type": "code",
   "execution_count": 71,
   "metadata": {
    "collapsed": true
   },
   "outputs": [],
   "source": [
    "from os import listdir\n",
    "from os.path import isdir, join\n",
    "import pandas as pd\n",
    "from paper_reader import *"
   ]
  },
  {
   "cell_type": "code",
   "execution_count": 97,
   "metadata": {
    "collapsed": false
   },
   "outputs": [
    {
     "data": {
      "text/plain": [
       "['.DS_Store',\n",
       " 'full_grades.csv',\n",
       " 'intro_grades.csv',\n",
       " 'intro_students.csv',\n",
       " 'week1',\n",
       " 'week1_final_grades.csv',\n",
       " 'week1_graded_final.p',\n",
       " 'week2',\n",
       " 'week2_graded_final.p',\n",
       " 'week3',\n",
       " 'week3_graded_final.p',\n",
       " 'week4']"
      ]
     },
     "execution_count": 97,
     "metadata": {},
     "output_type": "execute_result"
    }
   ],
   "source": [
    "INPUT_PATH = '/Users/Tom/Desktop/IntroSoc/data'\n",
    "listdir('/Users/Tom/Desktop/IntroSoc/data/')"
   ]
  },
  {
   "cell_type": "code",
   "execution_count": 23,
   "metadata": {
    "collapsed": false
   },
   "outputs": [
    {
     "name": "stdout",
     "output_type": "stream",
     "text": [
      "['week1', 'week2', 'week3', 'week4']\n"
     ]
    }
   ],
   "source": [
    "weeks = [w for w in listdir(INPUT_PATH) if isdir(join(INPUT_PATH, w))]\n",
    "weeks = [x for x in weeks if x.startswith('week')] #additional check\n",
    "print weeks"
   ]
  },
  {
   "cell_type": "code",
   "execution_count": 64,
   "metadata": {
    "collapsed": false
   },
   "outputs": [],
   "source": [
    "all_student_info = pd.read_csv('/Users/Tom/Desktop/IntroSoc/data/full_grades.csv')\n",
    "all_student_info = all_student_info.fillna(value=0)\n",
    "all_student_info.index  = all_student_info['Username']\n",
    "columns = list(all_student_info.columns)"
   ]
  },
  {
   "cell_type": "code",
   "execution_count": 42,
   "metadata": {
    "collapsed": false
   },
   "outputs": [],
   "source": [
    "lookup = {'week1': 'M1',\n",
    "'week2': 'M2',\n",
    "'week3': 'M3',\n",
    "'week4': 'M4',\n",
    "'week5': 'M5',\n",
    "'week6': 'M6',\n",
    "'week7': 'M7',\n",
    "'week8': 'M8',\n",
    "'week9': 'M9',\n",
    "'week10': 'M10',\n",
    "'week11': 'M11'}"
   ]
  },
  {
   "cell_type": "code",
   "execution_count": 43,
   "metadata": {
    "collapsed": false
   },
   "outputs": [
    {
     "name": "stdout",
     "output_type": "stream",
     "text": [
      "'week1': 'M1',\n",
      "'week2': 'M2',\n",
      "'week3': 'M3',\n",
      "'week4': 'M4',\n",
      "'week5': 'M5',\n",
      "'week6': 'M6',\n",
      "'week7': 'M7',\n",
      "'week8': 'M8',\n",
      "'week9': 'M9',\n",
      "'week10': 'M10',\n",
      "'week11': 'M11',\n"
     ]
    }
   ],
   "source": [
    "for i in range(1,12):\n",
    "    print \"'week\"+str(i)+\"'\"+\": 'M\"+str(i)+\"'\"+\",\""
   ]
  },
  {
   "cell_type": "code",
   "execution_count": 44,
   "metadata": {
    "collapsed": false
   },
   "outputs": [
    {
     "data": {
      "text/plain": [
       "['M11', 'M10', 'M9', 'M8', 'M1', 'M3', 'M2', 'M5', 'M4', 'M7', 'M6']"
      ]
     },
     "execution_count": 44,
     "metadata": {},
     "output_type": "execute_result"
    }
   ],
   "source": [
    "#To find the paper,grade pair for student i in week w (p,g)iw\n",
    "    #if weekw in weeks\n",
    "        #week_num = int(weeks[0].split('week')[1])\n",
    "        #"
   ]
  },
  {
   "cell_type": "code",
   "execution_count": 51,
   "metadata": {
    "collapsed": false
   },
   "outputs": [
    {
     "data": {
      "text/plain": [
       "1"
      ]
     },
     "execution_count": 51,
     "metadata": {},
     "output_type": "execute_result"
    }
   ],
   "source": [
    "#Use net_id to get the paper from relevant week folder\n",
    "#column_start = lookup[week]"
   ]
  },
  {
   "cell_type": "code",
   "execution_count": 99,
   "metadata": {
    "collapsed": false
   },
   "outputs": [],
   "source": [
    "grade_column_name = [x for x in all_student_info.columns if x.startswith(lookup['week1']+' ')]\n",
    "grade_column_name = grade_column_name[0]"
   ]
  },
  {
   "cell_type": "code",
   "execution_count": 100,
   "metadata": {
    "collapsed": false
   },
   "outputs": [
    {
     "data": {
      "text/plain": [
       "'M1 (Aug 29 & Aug 31) [Total Pts: 100] |495817'"
      ]
     },
     "execution_count": 100,
     "metadata": {},
     "output_type": "execute_result"
    }
   ],
   "source": [
    "grade_column_name"
   ]
  },
  {
   "cell_type": "code",
   "execution_count": 70,
   "metadata": {
    "collapsed": false
   },
   "outputs": [
    {
     "data": {
      "text/plain": [
       "'80.00'"
      ]
     },
     "execution_count": 70,
     "metadata": {},
     "output_type": "execute_result"
    }
   ],
   "source": [
    "all_student_info.loc['dba54', grade_column_name]"
   ]
  },
  {
   "cell_type": "code",
   "execution_count": 73,
   "metadata": {
    "collapsed": false
   },
   "outputs": [],
   "source": [
    "files = get_files(INPUT_PATH, '/week1')"
   ]
  },
  {
   "cell_type": "code",
   "execution_count": null,
   "metadata": {
    "collapsed": false
   },
   "outputs": [],
   "source": []
  },
  {
   "cell_type": "code",
   "execution_count": 78,
   "metadata": {
    "collapsed": false
   },
   "outputs": [],
   "source": [
    "texts = get_text(INPUT_PATH, '/week1', files, list(all_student_info['Username']))"
   ]
  },
  {
   "cell_type": "code",
   "execution_count": null,
   "metadata": {
    "collapsed": false
   },
   "outputs": [],
   "source": []
  },
  {
   "cell_type": "code",
   "execution_count": null,
   "metadata": {
    "collapsed": false
   },
   "outputs": [],
   "source": []
  },
  {
   "cell_type": "code",
   "execution_count": 102,
   "metadata": {
    "collapsed": false
   },
   "outputs": [],
   "source": [
    "#all_student_info.loc['xxx', grade_column_name]"
   ]
  },
  {
   "cell_type": "code",
   "execution_count": 92,
   "metadata": {
    "collapsed": false
   },
   "outputs": [
    {
     "name": "stdout",
     "output_type": "stream",
     "text": [
      "1 1 211\n",
      "2 2 211\n",
      "3 3 211\n",
      "4 4 211\n",
      "5 5 211\n",
      "6 6 211\n",
      "7 7 211\n",
      "8 8 211\n",
      "9 9 211\n",
      "10 10 211\n",
      "11 11 211\n",
      "12 12 211\n",
      "13 13 211\n",
      "14 14 211\n",
      "15 15 211\n",
      "16 16 211\n",
      "17 17 211\n",
      "18 18 211\n",
      "19 19 211\n",
      "20 20 211\n",
      "21 21 211\n",
      "22 22 211\n",
      "23 23 211\n",
      "24 24 211\n",
      "25 25 211\n",
      "26 26 211\n",
      "27 27 211\n",
      "28 28 211\n",
      "29 29 211\n",
      "30 30 211\n",
      "31 31 211\n",
      "32 32 211\n",
      "33 33 211\n",
      "34 34 211\n",
      "35 35 211\n",
      "36 36 211\n",
      "37 37 211\n",
      "38 38 211\n",
      "39 39 211\n",
      "40 40 211\n",
      "41 41 211\n",
      "42 42 211\n",
      "43 43 211\n",
      "44 44 211\n",
      "45 45 211\n",
      "46 46 211\n",
      "47 47 211\n",
      "48 48 211\n",
      "49 49 211\n",
      "50 50 211\n",
      "51 51 211\n",
      "52 52 211\n",
      "53 53 211\n",
      "54 54 211\n",
      "55 55 211\n",
      "56 56 211\n",
      "57 57 211\n",
      "58 58 211\n",
      "59 59 211\n",
      "60 60 211\n",
      "61 61 211\n",
      "62 62 211\n",
      "63 63 211\n",
      "64 64 211\n",
      "65 65 211\n",
      "66 66 211\n",
      "67 67 211\n",
      "68 68 211\n",
      "69 69 211\n",
      "70 70 211\n",
      "71 71 211\n",
      "72 72 211\n",
      "73 73 211\n",
      "74 74 211\n",
      "75 75 211\n",
      "76 76 211\n",
      "77 77 211\n",
      "78 78 211\n",
      "79 79 211\n",
      "80 80 211\n",
      "81 81 211\n",
      "82 82 211\n",
      "83 83 211\n",
      "84 84 211\n",
      "85 85 211\n",
      "86 86 211\n",
      "87 87 211\n",
      "88 88 211\n",
      "89 89 211\n",
      "90 90 211\n",
      "91 91 211\n",
      "92 92 211\n",
      "93 93 211\n",
      "94 94 211\n",
      "95 95 211\n",
      "96 96 211\n",
      "97 97 211\n",
      "98 98 211\n",
      "99 99 211\n",
      "100 100 211\n",
      "101 101 211\n",
      "102 102 211\n",
      "103 103 211\n",
      "104 104 211\n",
      "105 105 211\n",
      "106 106 211\n",
      "107 107 211\n",
      "108 108 211\n",
      "109 109 211\n",
      "110 110 211\n",
      "111 111 211\n",
      "112 112 211\n",
      "113 113 211\n",
      "114 114 211\n",
      "115 115 211\n",
      "116 116 211\n",
      "117 117 211\n",
      "118 118 211\n",
      "119 119 211\n",
      "120 120 211\n",
      "121 121 211\n",
      "122 122 211\n",
      "123 123 211\n",
      "124 124 211\n",
      "125 125 211\n",
      "126 126 211\n",
      "127 127 211\n",
      "128 128 211\n",
      "129 129 211\n",
      "130 130 211\n",
      "131 131 211\n",
      "132 132 211\n",
      "133 133 211\n",
      "134 134 211\n",
      "135 135 211\n",
      "136 136 211\n",
      "137 137 211\n",
      "138 138 211\n",
      "139 139 211\n",
      "140 140 211\n",
      "141 141 211\n",
      "142 142 211\n",
      "143 143 211\n",
      "144 144 211\n",
      "145 145 211\n",
      "146 146 211\n",
      "147 147 211\n",
      "148 148 211\n",
      "149 149 211\n",
      "150 150 211\n",
      "151 151 211\n",
      "152 152 211\n",
      "153 153 211\n",
      "154 154 211\n",
      "155 155 211\n",
      "156 156 211\n",
      "157 157 211\n",
      "158 158 211\n",
      "159 159 211\n",
      "160 160 211\n",
      "161 161 211\n",
      "162 162 211\n",
      "163 163 211\n",
      "164 164 211\n",
      "165 165 211\n",
      "166 166 211\n",
      "167 167 211\n",
      "168 168 211\n",
      "169 169 211\n",
      "170 170 211\n",
      "171 171 211\n",
      "172 172 211\n",
      "173 173 211\n",
      "174 174 211\n",
      "175 175 211\n",
      "176 176 211\n",
      "177 177 211\n",
      "178 178 211\n",
      "179 179 211\n",
      "180 180 211\n",
      "181 181 211\n",
      "182 182 211\n",
      "183 183 211\n",
      "184 184 211\n",
      "185 185 211\n",
      "186 186 211\n",
      "187 187 211\n",
      "188 188 211\n",
      "189 189 211\n",
      "190 190 211\n",
      "191 191 211\n",
      "192 192 211\n",
      "193 193 211\n",
      "194 194 211\n",
      "195 195 211\n",
      "196 196 211\n",
      "197 197 211\n",
      "198 198 211\n",
      "199 199 211\n",
      "200 200 211\n",
      "201 201 211\n",
      "202 202 211\n",
      "203 203 211\n",
      "204 204 211\n",
      "205 205 211\n",
      "206 206 211\n",
      "207 207 211\n",
      "208 208 211\n",
      "209 209 211\n",
      "210 210 211\n",
      "211 211 211\n"
     ]
    }
   ],
   "source": [
    "essays = []\n",
    "grades = []\n",
    "for student in texts.keys():\n",
    "    text = texts[student]\n",
    "    grade = all_student_info.loc[student, grade_column_name]\n",
    "    essays.append(text)\n",
    "    grades.append(grade)\n",
    "    print len(essays), len(grades), len(texts.keys())\n",
    "    "
   ]
  },
  {
   "cell_type": "code",
   "execution_count": 93,
   "metadata": {
    "collapsed": true
   },
   "outputs": [],
   "source": [
    "df = pd.DataFrame()"
   ]
  },
  {
   "cell_type": "code",
   "execution_count": 94,
   "metadata": {
    "collapsed": false
   },
   "outputs": [],
   "source": [
    "df['students'] = list(texts.keys())\n",
    "df['essays'] = essays\n",
    "df['grades'] = grades"
   ]
  },
  {
   "cell_type": "code",
   "execution_count": null,
   "metadata": {
    "collapsed": false
   },
   "outputs": [],
   "source": []
  },
  {
   "cell_type": "code",
   "execution_count": null,
   "metadata": {
    "collapsed": true
   },
   "outputs": [],
   "source": []
  }
 ],
 "metadata": {
  "kernelspec": {
   "display_name": "Python 2",
   "language": "python",
   "name": "python2"
  },
  "language_info": {
   "codemirror_mode": {
    "name": "ipython",
    "version": 2
   },
   "file_extension": ".py",
   "mimetype": "text/x-python",
   "name": "python",
   "nbconvert_exporter": "python",
   "pygments_lexer": "ipython2",
   "version": "2.7.12"
  }
 },
 "nbformat": 4,
 "nbformat_minor": 1
}
