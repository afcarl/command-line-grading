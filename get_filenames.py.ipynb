{
 "cells": [
  {
   "cell_type": "code",
   "execution_count": 244,
   "metadata": {
    "collapsed": false
   },
   "outputs": [],
   "source": [
    "from os import listdir\n",
    "from os.path import isfile, join\n",
    "from unidecode import unidecode\n",
    "import copy\n",
    "import nltk\n",
    "from bs4 import BeautifulSoup\n",
    "import string\n",
    "import re\n",
    "path = '../data/'\n",
    "week = 'week1'"
   ]
  },
  {
   "cell_type": "code",
   "execution_count": 113,
   "metadata": {
    "collapsed": false
   },
   "outputs": [],
   "source": [
    "def get_files(path,week):\n",
    "    path = path+week\n",
    "    files = [f for f in listdir(path) if isfile(join(path, f))]\n",
    "    pdfs = [f for f in files if f.endswith('.pdf')]\n",
    "    docs = [f for f in files if f.endswith('.docx')]\n",
    "    txts = [f for f in files if f.endswith('.txt')]\n",
    "    return pdfs, docs, txts"
   ]
  },
  {
   "cell_type": "code",
   "execution_count": 114,
   "metadata": {
    "collapsed": false
   },
   "outputs": [],
   "source": [
    "f = get_files(path,week)\n",
    "pdfs = f[0]\n",
    "docs = f[1]\n",
    "txts = f[2]"
   ]
  },
  {
   "cell_type": "code",
   "execution_count": 115,
   "metadata": {
    "collapsed": false
   },
   "outputs": [
    {
     "name": "stdout",
     "output_type": "stream",
     "text": [
      "374\n"
     ]
    }
   ],
   "source": [
    "print len(pdfs)+len(docs)+len(txts)"
   ]
  },
  {
   "cell_type": "code",
   "execution_count": 116,
   "metadata": {
    "collapsed": false
   },
   "outputs": [],
   "source": [
    "import pandas as pd"
   ]
  },
  {
   "cell_type": "code",
   "execution_count": 117,
   "metadata": {
    "collapsed": false
   },
   "outputs": [],
   "source": [
    "students = pd.read_csv('../data/intro_students.csv')"
   ]
  },
  {
   "cell_type": "code",
   "execution_count": 204,
   "metadata": {
    "collapsed": false
   },
   "outputs": [],
   "source": [
    "net_ids = list(students.net_id)\n",
    "missing = copy.deepcopy(net_ids)"
   ]
  },
  {
   "cell_type": "code",
   "execution_count": 205,
   "metadata": {
    "collapsed": false
   },
   "outputs": [],
   "source": [
    "def find_txts(pdfs, docs, txts, net_ids):\n",
    "    missing = copy.deepcopy(net_ids)\n",
    "    count = len(missing)\n",
    "    valid_txts = []\n",
    "    for p in pdfs:\n",
    "        for nid in net_ids:\n",
    "            if nid in p:\n",
    "                missing.remove(nid)\n",
    "                count+=1\n",
    "    for d in docs:\n",
    "        for nid in net_ids:\n",
    "            if nid in d:\n",
    "                missing.remove(nid)\n",
    "                count+=1\n",
    "    #Now go through remaining missing and\n",
    "    #Add txts to new list and remove from missing\n",
    "    for t in txts:\n",
    "        for m in missing:\n",
    "            if m in t:\n",
    "                missing.remove(m)\n",
    "                valid_txts.append(t)\n",
    "                count+=1\n",
    "    return valid_txts, count, missing"
   ]
  },
  {
   "cell_type": "code",
   "execution_count": 206,
   "metadata": {
    "collapsed": false
   },
   "outputs": [],
   "source": [
    "T = find_txts(pdfs, docs, txts, net_ids)"
   ]
  },
  {
   "cell_type": "code",
   "execution_count": 209,
   "metadata": {
    "collapsed": false
   },
   "outputs": [],
   "source": [
    "txt_files = T[0]\n",
    "missing = T[2]"
   ]
  },
  {
   "cell_type": "code",
   "execution_count": 210,
   "metadata": {
    "collapsed": false
   },
   "outputs": [
    {
     "data": {
      "text/plain": [
       "'../data/week1/M1 (Aug 29 & Aug 31)_jcp333_attempt_2016-08-31-21-15-14.txt'"
      ]
     },
     "execution_count": 210,
     "metadata": {},
     "output_type": "execute_result"
    }
   ],
   "source": [
    "file_path = path+week+\"/\"+T[0][1]\n",
    "file_path"
   ]
  },
  {
   "cell_type": "code",
   "execution_count": 250,
   "metadata": {
    "collapsed": true
   },
   "outputs": [],
   "source": [
    "def parse_txt(file_path):\n",
    "    f = open(file_path)\n",
    "    text = f.read()\n",
    "    text1 = text.split(\"Submission Field:\")\n",
    "    text2 = text1[1].split(\"Comments:\")\n",
    "    submission = text2[0]\n",
    "    text4 = text2[1]\n",
    "    text5 = text4.split(\"Files:\")\n",
    "    comments = text5[0]\n",
    "    if len(submission) > len(comments):\n",
    "        submission = re.sub('<[^<]+?>', '', submission)\n",
    "        return submission\n",
    "    else:\n",
    "        comments = re.sub('<[^<]+?>', '', comments)\n",
    "        return comments"
   ]
  },
  {
   "cell_type": "code",
   "execution_count": null,
   "metadata": {
    "collapsed": false
   },
   "outputs": [],
   "source": [
    "def parse_all_texts(pdfs, docs, txts):\n",
    "    for pdf in pdfs:\n",
    "        "
   ]
  },
  {
   "cell_type": "code",
   "execution_count": 259,
   "metadata": {
    "collapsed": false
   },
   "outputs": [
    {
     "name": "stdout",
     "output_type": "stream",
     "text": [
      "\n",
      "In The Rules of Sociological Method (1895), Emile Durkheim explains that a social fact  “consists of ways of acting, thinking, and feeling, external to the individual, and endowed with power of coercion, by which they control him.” Social facts include laws, population dynamics, and moral beliefs, all of which influence our lives whether we follow them or not. No matter how hard a person tries to be different, lead their own life and break away from “the norm,” they are still controlled by social facts. These restrictions make life seem as though everyone is trapped in a box and no matter where you move, you will never be able to escape. The constraining truth to social facts is a reason to live alone and be free. The last thing I would do is join a religious community. In addition to the societal rules, any religion includes a plethora of even more limitations.  \n",
      "  My idea that people would want to live on their own and be as free as possible from rules is the opposite of what Durkheim published in his book Suicide (1897). Durkheim conducted a study on the suicide rates of varying religions in different countries. He looked at Judaism, Protestantism, and Christianity. The results declared that Judaism had the lowest rate, followed by Christianity then Protestantism. Durkheim’s reasoning as to why Judaism had the lowest suicide rate was based upon the fact that this religion has the most laws and responsibilities, leading its adherents, the Jews, to feel like they are a part of something greater than themselves. \n",
      "  I would like to offer my own theory on this matter, as well. Throughout the Torah, we learn about many important people connected to God and his ancient religion. Among the stories we find in the Torah, there are numerous instances in which even the holiest men and women in history sin. The God of the Hebrews is, in literally hundreds (if not thousands) of instances referred to as “Merciful One.” According to Jewish teachings, He does not expect perfection and understands that humans are fallible beings. The Jewish tradition goes to great lengths to teach that even the ones closest to God sinned and found redemption and favor in His eyes, thus conveying the notion that one is never hopeless and it is impossible for God to abandon his children. This stands in stark contrast to the teachings of the churches of Christianity and Protestantism. In these religious institutions it is standard practice to learn about the perfect son of God, Jesus. He is who all aspire to act as. This is why the phrase “what would Jesus do?” has gained such credence- people ask themselves what they can do to achieve perfection and conduct themselves like Jesus would. In fact, if one perused the Church’s deities and saints, little, if any, would be found that supported the notion of fallibility in their characters. \n",
      " Amongst religious individuals this method of thinking could lead to serious declines in morale and self-image and worth. It is perhaps possible that the reason for the discrepancy in the suicide rates of these religions is very much connected to the adherents’ beliefs regarding spiritual aspirations and their views on God’s mercy towards them. It is plausible to speculate that Jewish people feel less of a burden by their imperfections and misdeeds than those of Christianity and Protestantism, whom may feel that they are unworthy of life, having paled in comparison to the infallible Jesus and Saints. While Jews, reflecting on any misdeeds, are reminded of how their holiest figures have sinned and again found favor in the eyes of their merciful God. \n",
      "  Rules and social facts may seem very limiting, however from Durkheim’s study it is clear that the human soul needs guidelines and a belief in something other than oneself. Without constraint we are free to do whatever we want but this freedom leads to spiritual pondering the person will feel alone and unwanted. This feeling of depression and worthlessness is why people commit suicide. \n",
      " \n",
      " \n",
      " \n",
      " \n",
      " \n",
      " \n",
      " \n",
      " \n",
      " \n",
      " \n",
      " \n",
      " \n",
      " \n",
      "Works Cited \n",
      " \n",
      "Durkheim, Emile. Suicide, a Study In Sociology. Glencoe, Ill.: Free Press, 1951. \n",
      " \n",
      "Durkheim, Emile. The Rules of Sociological Method. 8th ed., Chicago, Ill.: The University of Chicago press, 1938. \n",
      " \n",
      " \n",
      "\n",
      "\n",
      "['1895', '1897', '1895', '1897']\n",
      "\n",
      "The Gladwell reading discussed the admissions process in Ivy League universities, specifically how Harvard choses their students. They measured each student according to four criteria: personal, academic, extracurricular, and athletic. Gladwell states that the reason Harvard began judging students this way was to keep the percentage of Jews, which was getting too high, in a lower number. He also states that “the Ivy League schools justified their emphasis on character and personality, however, by arguing that they were searching for the students who would have the greatest success after college” (Gladwell 7). \n",
      "Ivy League schools are known to this day as some of the most prestigious academic institutions. It is unsurprising that they would employ a rigorous evaluation to accept students into their school. However, the fact that they use this admissions process to judge which students will be greater after college instead of what kind of students they’ll be in the university is surprising. They focus on athletes, who according to Gladwell “are more likely than others to be highly competitive, gregarious and confident in their ability to work well in groups (on teams),” (Gladwell 9) and “superstars” (Gladwell 8). They aren’t looking for just successful graduates. It seems like these elite schools choose students that already seem like a package deal. They don’t choose students that will profit vastly from the great education the institution offers, but students that will bring the most prestige to the school. The question is, would Harvard have the same prestige if they accepted more ‘normal’ candidates instead of looking for superstar candidates? Or does this prestige really depend on these perfect students? \n",
      "\n",
      "\n",
      "['Gladwell 7', 'on teams),\\xe2\\x80\\x9d (Gladwell 9', 'Gladwell 8']\n",
      "\n",
      "Mena Wang (mw749) \n",
      "August 31, 2016  \n",
      "  \n",
      " Durkheim’s book Suicide: A Study in Sociological Theory examines the suicide rates among different religious groups, and how the community and unity of a religion motivates people to stay alive. Durkheim mentions suicide as “an act without offense to others” (1951:156) in the beginning of the excerpt, which I thought was strange because when a person commits suicide, he/she is affecting his/her families and people who care about them, which in a way is an “offense.” However, I can see why people without a close-knit community would think they wouldn’t be offending anyone because they don’t believe there is a group of people who really care about their existence. He later mentions that “life is said to be intolerable unless some reason for existing is involved” (Durkheim 1951:210), and for some people perhaps that reason is their religious community or their family.  \n",
      "But since Durkheim has written this piece, religious influence has greatly declined, and I wonder if with the decrease of religion, suicide rates have risen. Without religion, I would imagine that there is even more room for people to question their purpose in life; if people do not believe in an afterlife, it would seem that their efforts are wasted after they die, and they would not have a “reason” as Durkheim mentioned. I do believe, however, perhaps people find more comfort now within their families or friend groups if they are not religious. As long as people have a good support group, committing suicide would affect their support group greatly and to know that their action will hurt their loved ones may be enough to prevent people from self-harm. If there was evidence that suicide rates have increased since religion has declined, then perhaps religion was a stronger bond within a community that gave purpose to a large amount of people.  \n",
      "\n",
      "\n",
      "['mw749', '1951:156', 'Durkheim 1951:210']\n",
      "\n",
      "Toyosi Elemo \n",
      "SOC 1101 \n",
      "8/31/16        \n",
      "How many people does it take to start a cultural trend? For sociologists and those alike the answer is definitely not one. From the supposed “individual” choices that one makes, to the unanimous voting of a group of people, there is always the invisible hand of society guiding the selections of these choices. Not being that human beings are incapable of thinking for themselves, but rather, human beings often go about making decisions based off of what “others” have said or thought. Better stated, “ [i]nstitutions may impose themselves upon us, but we cling to them; they compel us, and we love them” (Ibid., footnote 5). People revel in the idea that their choices are solely from within, unbiased to no other force besides themselves, yet this is not utterly valid.  Individuals are not entirely individualistic so sociologists, like Emile Durkheim, aim to understand and explain how the social facts of societies form that invisible, guiding  hand of social structure. For example, in Durkheim’s study of suicide he looks into the religious aspect of suicide and self-harm and concludes that it is not by religious group size, nor systems of religion (as they all appear to have similar teachings) that some believers are less likely to commit suicide or self-harm, but by the strength of social cohesion. In his study Durkheim explains that, “the more numerous and strong [the] collective states of mind are the stronger integration of the religious community and also the greater its perspective value” (p. 170). Durkheim's summary of social cohesion as being a saving grace can be an agreeable to a certain degree. However, wouldn’t this idea unknowingly formulate a group of outcasts who cannot agree with their culture and in turn become socially ostracized? Can social unity also come with the adverse effect of leaving those who don't completely abide by those beliefs on the wayside of that cohesion? Where social cohesion is limited the intrinsic thinking sets in to have its final say, which is why, in order for one to fully grasp the discipline that is sociology one must understand that though it takes a village to raise a child, the child eventually learns to walk alone; simply put people make their own final decisions even if it is socially influenced, free will is the ultimate justification of human decision making.  \n",
      " \n",
      "\n",
      "\n",
      "['Ibid., footnote 5', 'as they all appear to have similar teachings) that some believers are less likely to commit suicide or self-harm, but by the strength of social cohesion. In his study Durkheim explains that, \\xe2\\x80\\x9cthe more numerous and strong [the] collective states of mind are the stronger integration of the religious community and also the greater its perspective value\\xe2\\x80\\x9d (p. 170']\n",
      "\n",
      "After reading “Getting In” and “Selection from Suicide”, I started to grow more and more interests in sociology. It turns out to be an interdisciplinary subject that involves with science, statistics, history, and of course social studies. The author of each article follows strictly the steps of approaching sociology with set of skills. \r\n",
      "\r\n",
      "Take the reading of “Selection from suicide” as an example. First, Durkheim, the author, points out his observation that “Jews killed themselves less frequently than Catholics in all countries but Bavaria” (155 Durkheim). Later, he uses the scientific ways of doing comparative research, comparing the suicide rate in places where both Jews and Catholics are found as minority. He then offers two theories of why this phenomenon occurs, and finds provements to either agree or disagree with his theories. Throughout this process, statistics skill and a solid understanding of the history of related topic (ex. The history of british church) are required, as professor Kendra Bischoff mentioned in class: “see how we get to this place from a historical place”. In the end, he has to convince the author that what he finds not only applies to individual, but these “Characteristic common to all” (209 Durkheim).What triggered me the most from the reading is the idea that “it is society which, fashioning us in its image, fills us with religion, political and moral beliefs that control our actions” (212 Durkheim). Human always distinguish themselves from machine by 1. How human writes program for machine and 2. Human can make decision based on our free will but machine can’t. If these are our beliefs, see how true they are. Every person learn religion, political and moral beliefs that are all developed by human ourselves when he or she grows up. The knowledge we learn can be considered as the programs we write for ourselves. Moreover, we, in fact, make decision not based on our free will, but based on our will, which limited by legal and social reasons. Our actions and thinkings are controlled: we do behave and think in a certain way, or we can call it a designed way.\n",
      "\n",
      "[]\n"
     ]
    }
   ],
   "source": [
    "for t in txt_files:\n",
    "    texts = []\n",
    "    p = path+week+\"/\"+t\n",
    "    text = parse_txt(p)\n",
    "    x = re.findall('\\((.*?[0-9]+)\\)',text) #Finds references\n",
    "    y = re.findall('\\(([0-9]+)\\)',text)\n",
    "    bad_citation_measure = x+y\n",
    "    print text, bad_citation_measure\n",
    "    texts.append(text)\n",
    "    \n",
    "    "
   ]
  },
  {
   "cell_type": "code",
   "execution_count": 212,
   "metadata": {
    "collapsed": false
   },
   "outputs": [
    {
     "data": {
      "text/plain": [
       "['jka46', 'jrl336', 'wl435', 'yl633']"
      ]
     },
     "execution_count": 212,
     "metadata": {},
     "output_type": "execute_result"
    }
   ],
   "source": [
    "missing"
   ]
  },
  {
   "cell_type": "code",
   "execution_count": null,
   "metadata": {
    "collapsed": true
   },
   "outputs": [],
   "source": []
  }
 ],
 "metadata": {
  "kernelspec": {
   "display_name": "Python 2",
   "language": "python",
   "name": "python2"
  },
  "language_info": {
   "codemirror_mode": {
    "name": "ipython",
    "version": 2
   },
   "file_extension": ".py",
   "mimetype": "text/x-python",
   "name": "python",
   "nbconvert_exporter": "python",
   "pygments_lexer": "ipython2",
   "version": "2.7.12"
  }
 },
 "nbformat": 4,
 "nbformat_minor": 1
}
