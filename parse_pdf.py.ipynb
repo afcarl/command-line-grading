{
 "cells": [
  {
   "cell_type": "code",
   "execution_count": 6,
   "metadata": {
    "collapsed": false
   },
   "outputs": [],
   "source": [
    "import PyPDF2\n",
    "from unidecode import unidecode"
   ]
  },
  {
   "cell_type": "code",
   "execution_count": 28,
   "metadata": {
    "collapsed": true
   },
   "outputs": [],
   "source": [
    "def read_pdf(file_path):\n",
    "    file = open(file_path, 'rb')\n",
    "    reader = PyPDF2.PdfFileReader(file)\n",
    "    try:\n",
    "        page_0 = reader.getPage(0)\n",
    "        text = page_0.extractText()\n",
    "        try:\n",
    "            page_1 = reader.getPage(1)\n",
    "            text = text + ' ' + page_1.extractText()\n",
    "        except IndexError:\n",
    "            pass\n",
    "    except IndexError:\n",
    "        print \"Error found, cannot get first page\"\n",
    "    #Now to decode the unicode elements\n",
    "    decoded = unidecode(text) #decode unicode\n",
    "    decoded2 = decoded.replace('\\nO', '') #replace tab chars\n",
    "    decoded3 = decoded2.replace('\\n', '') #replace newline chars\n",
    "    text = decoded3\n",
    "    return text\n",
    "    \n",
    "        \n",
    "        "
   ]
  },
  {
   "cell_type": "code",
   "execution_count": 4,
   "metadata": {
    "collapsed": false
   },
   "outputs": [
    {
     "name": "stdout",
     "output_type": "stream",
     "text": [
      "/Users/Tom/Desktop/IntroSoc/src\r\n"
     ]
    }
   ],
   "source": [
    "!pwd"
   ]
  },
  {
   "cell_type": "code",
   "execution_count": 29,
   "metadata": {
    "collapsed": false
   },
   "outputs": [],
   "source": [
    "f = \"../data/week1/M1 (Aug 29 & Aug 31)_ohl5_attempt_2016-08-31-19-50-33_SOC1101M1 (1).pdf\"\n",
    "file = open(f, 'rb')\n",
    "r = PyPDF2.PdfFileReader(file)"
   ]
  },
  {
   "cell_type": "code",
   "execution_count": 30,
   "metadata": {
    "collapsed": false
   },
   "outputs": [],
   "source": [
    "p0 = r.getPage(0)"
   ]
  },
  {
   "cell_type": "code",
   "execution_count": 31,
   "metadata": {
    "collapsed": false
   },
   "outputs": [
    {
     "data": {
      "text/plain": [
       "u''"
      ]
     },
     "execution_count": 31,
     "metadata": {},
     "output_type": "execute_result"
    }
   ],
   "source": [
    "t =  p0.extractText()\n",
    "t"
   ]
  },
  {
   "cell_type": "code",
   "execution_count": 35,
   "metadata": {
    "collapsed": false
   },
   "outputs": [],
   "source": []
  },
  {
   "cell_type": "code",
   "execution_count": 36,
   "metadata": {
    "collapsed": true
   },
   "outputs": [],
   "source": []
  },
  {
   "cell_type": "code",
   "execution_count": null,
   "metadata": {
    "collapsed": false
   },
   "outputs": [],
   "source": []
  },
  {
   "cell_type": "code",
   "execution_count": null,
   "metadata": {
    "collapsed": true
   },
   "outputs": [],
   "source": []
  }
 ],
 "metadata": {
  "kernelspec": {
   "display_name": "Python 2",
   "language": "python",
   "name": "python2"
  },
  "language_info": {
   "codemirror_mode": {
    "name": "ipython",
    "version": 2
   },
   "file_extension": ".py",
   "mimetype": "text/x-python",
   "name": "python",
   "nbconvert_exporter": "python",
   "pygments_lexer": "ipython2",
   "version": "2.7.12"
  }
 },
 "nbformat": 4,
 "nbformat_minor": 1
}
