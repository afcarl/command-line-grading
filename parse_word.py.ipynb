{
 "cells": [
  {
   "cell_type": "code",
   "execution_count": 61,
   "metadata": {
    "collapsed": true
   },
   "outputs": [],
   "source": [
    "import docx\n",
    "from unidecode import unidecode\n",
    "filename = 'SOC1101 Memo 1.docx'"
   ]
  },
  {
   "cell_type": "code",
   "execution_count": 1,
   "metadata": {
    "collapsed": true
   },
   "outputs": [],
   "source": [
    "def parse_docx(filename):\n",
    "    doc = docx.Document(filename)\n",
    "    fullText = []\n",
    "    for para in doc.paragraphs:\n",
    "        fullText.append(para.text)\n",
    "    text =  '\\n'.join(fullText)\n",
    "    text = unidecode(text)\n",
    "    text = text.encode('utf-8')\n",
    "    text = text.strip()\n",
    "    return str(text)"
   ]
  },
  {
   "cell_type": "code",
   "execution_count": 2,
   "metadata": {
    "collapsed": false
   },
   "outputs": [
    {
     "ename": "NameError",
     "evalue": "name 'filename' is not defined",
     "output_type": "error",
     "traceback": [
      "\u001b[0;31m---------------------------------------------------------------------------\u001b[0m",
      "\u001b[0;31mNameError\u001b[0m                                 Traceback (most recent call last)",
      "\u001b[0;32m<ipython-input-2-ee9e69450e13>\u001b[0m in \u001b[0;36m<module>\u001b[0;34m()\u001b[0m\n\u001b[0;32m----> 1\u001b[0;31m \u001b[0mt\u001b[0m \u001b[0;34m=\u001b[0m \u001b[0mparse_docx\u001b[0m\u001b[0;34m(\u001b[0m\u001b[0mfilename\u001b[0m\u001b[0;34m)\u001b[0m\u001b[0;34m\u001b[0m\u001b[0m\n\u001b[0m",
      "\u001b[0;31mNameError\u001b[0m: name 'filename' is not defined"
     ]
    }
   ],
   "source": [
    "t = parse_docx(filename)"
   ]
  },
  {
   "cell_type": "code",
   "execution_count": 57,
   "metadata": {
    "collapsed": false
   },
   "outputs": [
    {
     "name": "stdout",
     "output_type": "stream",
     "text": [
      "While reading Malcolm Gladwell's \"Getting In,\" I was very surprised at how the admissions process went through major changes and how our society is so easily affected. It almost seems preposterous that a university as prestigious as Harvard and Yale would at one point overlook academics. I guess this is where it gets hard to analyze, or in my case, understand the sociology behind it. Why was it so important that Yale's freshmen class each year was \"at six feet or more\" for the dean? (Gladwell) I would argue that at any point, athletics is important, but having well-rounded students is more important. Gladwell points out Wilbur Bender's argument that the only thing that should be of concern regarding societal impact of a student after college is their \"personal inner force,\" which I would ultimately agree with. I think that after reading this article I was just infuriated with the previous deans who spoke so much more highly of athletics rather than just the well-roundedness of a student. What kind of person does that make them to society? This is where it gets confusing for me, though, because these deans obviously have \"personal inner force\" (Gladwell) if they are deans of prestigious universities, but they are immoral people to turn students away based on their physical appearance and nonexistent athletic abilities. \n",
      "So does this mean that they have negative impacts on society? If so, then there must be a connection or a correlation to the kind of person you are and the kind of impact you make on society in the future, whether it is positive or negative. If this is true, then how do deans nowadays predict what kind of impacts students will make and whether or not to admit them? It is clear that back then the deans cared more about what kind of impact the students would make on the football field. Still, it is unnerving to think about all the different components of the admission process and how the people at the top who may be corrupt can affect our society but there is nothing we can do about it because they may have more drive than those who are more intelligent and excelled in college. \n",
      "\n",
      "\n",
      "\n",
      "\n",
      "\n",
      "\n",
      "\n",
      "\n",
      "\n",
      "\n",
      "\n",
      "\n",
      "\n",
      "\n",
      "\n",
      "\n",
      "\n",
      "\n",
      "\n",
      "\n",
      "\n",
      "Citations\n",
      "Gladwell, Malcolm. 2005. \"Getting In: The social logic of Ivy League admissions.\" A \n",
      "Critic at Large.\n"
     ]
    }
   ],
   "source": [
    "print t"
   ]
  },
  {
   "cell_type": "code",
   "execution_count": null,
   "metadata": {
    "collapsed": false
   },
   "outputs": [],
   "source": []
  },
  {
   "cell_type": "code",
   "execution_count": null,
   "metadata": {
    "collapsed": false
   },
   "outputs": [],
   "source": []
  },
  {
   "cell_type": "code",
   "execution_count": null,
   "metadata": {
    "collapsed": false
   },
   "outputs": [],
   "source": []
  },
  {
   "cell_type": "code",
   "execution_count": 24,
   "metadata": {
    "collapsed": false
   },
   "outputs": [],
   "source": []
  },
  {
   "cell_type": "code",
   "execution_count": null,
   "metadata": {
    "collapsed": false
   },
   "outputs": [],
   "source": []
  },
  {
   "cell_type": "code",
   "execution_count": 29,
   "metadata": {
    "collapsed": false
   },
   "outputs": [],
   "source": []
  },
  {
   "cell_type": "code",
   "execution_count": null,
   "metadata": {
    "collapsed": false
   },
   "outputs": [],
   "source": []
  },
  {
   "cell_type": "code",
   "execution_count": null,
   "metadata": {
    "collapsed": false
   },
   "outputs": [],
   "source": []
  },
  {
   "cell_type": "code",
   "execution_count": null,
   "metadata": {
    "collapsed": false
   },
   "outputs": [],
   "source": []
  },
  {
   "cell_type": "code",
   "execution_count": null,
   "metadata": {
    "collapsed": true
   },
   "outputs": [],
   "source": []
  }
 ],
 "metadata": {
  "kernelspec": {
   "display_name": "Python 2",
   "language": "python",
   "name": "python2"
  },
  "language_info": {
   "codemirror_mode": {
    "name": "ipython",
    "version": 2
   },
   "file_extension": ".py",
   "mimetype": "text/x-python",
   "name": "python",
   "nbconvert_exporter": "python",
   "pygments_lexer": "ipython2",
   "version": "2.7.12"
  }
 },
 "nbformat": 4,
 "nbformat_minor": 1
}
